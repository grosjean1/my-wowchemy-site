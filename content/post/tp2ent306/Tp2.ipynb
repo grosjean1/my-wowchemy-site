{
 "cells": [
  {
   "cell_type": "code",
   "execution_count": null,
   "id": "cd3d5543-dc57-4172-bb0b-f88fadd3b9d3",
   "metadata": {},
   "outputs": [],
   "source": [
    "#Install package\n",
    "import sys\n",
    "!{sys.executable} -m pip install numpy\n",
    "!{sys.executable} -m pip install matplotlib\n"
   ]
  },
  {
   "cell_type": "code",
   "execution_count": 329,
   "id": "db104f76-1af6-460c-9a82-0ed8967bde0b",
   "metadata": {},
   "outputs": [],
   "source": [
    "# import packages\n",
    "\n",
    "import numpy as np\n",
    "import scipy\n",
    "from scipy import optimize\n",
    "from scipy.optimize import minimize"
   ]
  },
  {
   "cell_type": "markdown",
   "id": "365f8a80-7d2e-46fe-9963-b975b4415dc6",
   "metadata": {},
   "source": [
    "## Deterministic model\n",
    "\n",
    "- Time scale: the decisions are taken every hour during the day.\n",
    "\n",
    "- Optimization variables (at each time step) :\n",
    "    - the amount of energy to be stored or withdrawn from the battery\n",
    "    - the amount of energy bought or sold to the network.\n",
    "\n",
    "- Contraints:\n",
    "    -  nonnegativity of variables\n",
    "    -  evolution of the battery\n",
    "    -  storage capacity of the battery.\n",
    "\n",
    "-  Cost function:\n",
    "    - Cost of the energy bought on the network...\n",
    "    - minus the cost of the energy sold on the network.\n",
    "\n",
    "#### The problem is modeled by:\n",
    "\n",
    "- Horizon: 24 hours, stepsize: 1 hour. \n",
    "- Optimization over $T= 24$ intervals.\n",
    "\n",
    "- Optimisation variable :\n",
    "    - $x(s)$ : state of charge of the battery at time $s$, $s= 0,...,T$\n",
    "    - $a(s)$: amount of electricity bought on the network ($s= 0,...,T-1$).\n",
    "    - $v(s)$: amount of energy sold on the network ($s= 0,...,T-1$). \n",
    "\n",
    "\n",
    "- Parameters:\n",
    "    - $d(s)$: net demand of energy (load minus solar production) at time $s$, $s= 0,...,T-1$.\n",
    "    - $P_a(s)$ : unitary buying price of energy at time $s$, $s= 0,...,T-1$\n",
    "    - $P_v(s)$ : unitary selling price of energy at time $s$, $s= 0,...,T-1$\n",
    "    - $x_{\\max}$: storage capacity of the battery.\n",
    "\n",
    "- Contraints:\n",
    "    - $x(s+1)= x(s) - d(s) + a(s) - v(s)$, $\\forall s= 0,...,T-1$\n",
    "    - $x(0)= 0$\n",
    "    - $a(s) \\geq 0$, $\\forall s=0,...,T-1$\n",
    "    - $v(s) \\geq 0$, $\\forall s=0,...,T-1$\n",
    "    - $0 \\leq x(s) \\leq x_{\\max}$, $\\forall s=0,...T$.\n",
    "\n",
    "- Cost function to be minimized:\n",
    "    $$J(x,a,v)= \\sum_{s=0}^{T-1} \\Big( P_a(s) a(s) - P_v(s) v(s) \\Big).$$\n",
    "\n",
    "\n",
    "We call demand scenario a vector $(D(s))_{s=1,...,T}$.\n",
    "\n",
    "Two set of scenarios are available:\n",
    "\n",
    "- Training set $D_T$ : history of $NT$ demand scenarios.\n",
    "  Used to build a probabilistic model for the demand and an appropriate control strategy.\n",
    "- Simulation set $D_S$ : history of $NS$ demand scenarios.\n",
    "  Used to test the control strategies. Avoid to build biased strategies.\n",
    "\n",
    "Shifting of the time index:\n",
    "\n",
    "The two available histories of demand scenarios contain $T_0$ values of the demand from the “previous day”, corresponding to the time intervals $-T0, −(T0 − 1),...,-2,-1$.\n",
    "A demand scenario is a vector of size $T + T0$. The training and simulation sets are matrices with $(T + T0)$ columns and respectively $NT$ and $NS$ rows.\n",
    "We “get access” to the demand at time $t$, for the scenario $l$ with $DT(l,t +T0)$ or $DS(l,t +T0)$.\n",
    "\n",
    "\n",
    "#### Optimization problem in a form that is compatible with the function linprog\n",
    "\n",
    "% Exercise 1: Indication: you should find optimal value= 124 with $d$ a-priori known\n",
    "\n",
    "we changed the function to take $d$ as an input parameter\n",
    "\n"
   ]
  },
  {
   "cell_type": "code",
   "execution_count": 330,
   "id": "39c86181-c771-491d-9863-88e9303dd2a8",
   "metadata": {},
   "outputs": [],
   "source": [
    "T= 24; # Time\n",
    "T0=10 #Training times\n",
    "x_max= 10; # battery maximum storage \n",
    "P_a= np.array([2, 2, 2, 2, 2, 2, 3, 3, 3, 3, 2, 2, 2, 2, 2, 2, 2, 4, 4, 4, 4, 3, 3, 2]); # unitary buying price of energy at time s\n",
    "P_v= np.array([1, 1, 1, 1, 1, 1, 1, 1, 1, 1, 1, 1, 1, 1, 1, 1, 1, 2, 2, 2, 2, 2, 1, 1]); # unitary selling price of energy at time s\n",
    "\n",
    "#d =np.array([-1, -1, -1, -1, -1, -2, 2 ,6, 8, 4, 2,  0,  0, -1, -2, -1,  0,  1, 3, 7, 9, 3, 2,  0]); # net demand of energy (already known)\n",
    "#d=d.reshape((T,1))\n",
    "P_a=P_a.reshape(T,1)\n",
    "P_v=P_v.reshape(T,1)\n",
    "\n",
    "NT=200\n",
    "NS=200\n",
    "import scipy.io\n",
    "mat = scipy.io.loadmat('scenarios.mat')\n",
    "DS = mat['D_S'] \n",
    "DT = mat['D_T'] \n",
    "# with T=2 (for testing purposes ...)\n",
    "# T = 2;\n",
    "#x_max= 5;\n",
    "\n",
    "#P_a=np.array([-1, -1])\n",
    "#P_v=P_a\n",
    "#d =np.array([-1, -1])\n",
    "#d=d.reshape(T,1)\n",
    "#P_a=P_a.reshape(T,1)\n",
    "#P_v=P_v.reshape(T,1)"
   ]
  },
  {
   "cell_type": "code",
   "execution_count": 331,
   "id": "5dfeb02e-1fef-4376-9a14-f66de43b3b2d",
   "metadata": {},
   "outputs": [],
   "source": [
    "#same as exercice 1\n",
    "def solve_deterministic_pb(d):\n",
    "    ...\n",
    "    \n",
    "    c=np.concatenate((np.zeros((T+1,1)),P_a,-P_v),axis=0) #cost function: sum_s P_a a(s) - P_v(v)\n",
    "    #print(c)  #columns of A must be equal to size of c\n",
    "    X=optimize.linprog(c,A_ub=A,b_ub=B,A_eq=Aeq,b_eq=Beq)\n",
    "    x=X.x[:T+1]\n",
    "    a=X.x[T+1:2*T+1]\n",
    "    v=X.x[2*T+1:]\n",
    "    #print(\"x:\", X.x[:T+1])\n",
    "    #print(np.shape(X.x[:T+1]))\n",
    "    #print(\"a:\", X.x[T+1:2*T+1])\n",
    "    #print(np.shape(X.x[T+1:2*T+1]))\n",
    "    #print(\"v:\", X.x[2*T+1:])\n",
    "    #print(np.shape(X.x[2*T+1:]))\n",
    "    #print(\"Optimal cost\", X.fun)\n",
    "    return x,a,v,X.fun\n",
    "    "
   ]
  },
  {
   "cell_type": "markdown",
   "id": "1965a333-786e-457e-a0d7-77adfba2e751",
   "metadata": {},
   "source": [
    "# Exercice 6\n",
    "### compute $J_{anti}$, the optimal cost\n",
    "Given a scenario $D$, compute $J_{anti}=\\frac1{NS} \\sum_{l=1}^{NS} J_{anti}(DS(l,.))$ ,\n",
    "where $J_{anti}(DS(l,.))= \\sum_{s=0}^{T-1} \\Big( P_a(s) a(s) - P_v(s) v(s) \\Big).$\n",
    "\n",
    "expected result: J_eval= 10.2490"
   ]
  },
  {
   "cell_type": "code",
   "execution_count": 1,
   "id": "aba2c91b-e74e-42e5-966a-a697d0c16a72",
   "metadata": {},
   "outputs": [],
   "source": [
    "def lower_bound():\n",
    "    global T0,DS,NS\n",
    "\n",
    "    J= 0;\n",
    "    for l in range(0,NS):#=0:N_S-1\n",
    "        _, _, _, val = ... #only simulation D_S (pay attention to time shifting!)\n",
    "        J= ...\n",
    "        #print(\"val\",val)\n",
    "    J= ...\n",
    "    return J"
   ]
  },
  {
   "cell_type": "code",
   "execution_count": 333,
   "id": "434c1bb7-87cd-4a8d-aad9-4147be8c5c9d",
   "metadata": {},
   "outputs": [
    {
     "name": "stdout",
     "output_type": "stream",
     "text": [
      "10.249021164754385\n"
     ]
    }
   ],
   "source": [
    "#% Exercise 6: \n",
    "J=lower_bound()\n",
    "print(J)"
   ]
  },
  {
   "cell_type": "markdown",
   "id": "16e48099-2ff8-46fd-b031-70e531561383",
   "metadata": {},
   "source": [
    "# Exercice 7\n",
    "### The naive strategy (we don't exploit the training set: $\\mathcal{I}=0$)\n",
    "online step: at time $s$, given $d(s)$, we choose\n",
    "$$(a(s),v(s))= \n",
    "\\begin{align*}\n",
    "& (d(s),0) \\textrm{ if } d(s) \\geq 0,\\\\\n",
    "& (0,-d(s)) \\textrm{ otherwise.} \n",
    "\\end{align*}$$"
   ]
  },
  {
   "cell_type": "markdown",
   "id": "01a62a93-0a30-4f43-bdc6-948e768a902c",
   "metadata": {},
   "source": [
    "Input: Demand scenario"
   ]
  },
  {
   "cell_type": "code",
   "execution_count": 334,
   "id": "54ac3e2a-0ba4-48a2-9309-c45a12143aa6",
   "metadata": {},
   "outputs": [],
   "source": [
    "def naive_online(D):\n",
    "    global T;\n",
    "    global P_a;\n",
    "    global P_v;\n",
    "\n",
    "    J=0;\n",
    "    for s in range(T):\n",
    "        if ...\n",
    "            a=...\n",
    "            v=...\n",
    "        else:\n",
    "            a=...\n",
    "            v=...\n",
    "\n",
    "        J= ...\n",
    "    return J"
   ]
  },
  {
   "cell_type": "code",
   "execution_count": 335,
   "id": "35c72e36-4593-4345-b613-a64d0fdbd714",
   "metadata": {},
   "outputs": [
    {
     "name": "stdout",
     "output_type": "stream",
     "text": [
      "NS 200\n",
      "(200, 34)\n",
      "10\n",
      "[52.8323865]\n"
     ]
    }
   ],
   "source": [
    "#% Exercise 7: \n",
    "def naive_eval():\n",
    "\n",
    "    global DS,NS,T0;\n",
    "\n",
    "    J=0\n",
    "    for l in range(NS):\n",
    "        J=...\n",
    "    J= ...\n",
    "    return J\n",
    "\n",
    "J=naive_eval()\n",
    "\n",
    "print(J)\n",
    "# the solution is 52.8324"
   ]
  },
  {
   "cell_type": "markdown",
   "id": "6dbc3463-243e-40b1-8218-e8d675caa07a",
   "metadata": {},
   "source": [
    "# Exercice 8\n",
    "The reasonable strategy\n",
    "- if $d(s) \\geq 0 :$ we dip into the reserve x(s) and we buy electricity if $d(s) \\geq x(s)$ (assert that $x=0$ in that case).\n",
    "- if $d(s) \\leq 0 :$ we stock energy in the battery as much as possible. If $d(s)\\leq x(s) -x_{max}$, the surplus is sold.\n",
    "\n",
    "Expected result:\n",
    " 28.0550"
   ]
  },
  {
   "cell_type": "code",
   "execution_count": 336,
   "id": "c4a0b9aa-06f0-401f-a43c-ad8ecb8d53e5",
   "metadata": {},
   "outputs": [],
   "source": [
    "def raisonnable_online(D):\n",
    "    global T, P_a,P_v, x_max\n",
    "    x=0\n",
    "    J=0\n",
    "    for s in ...:\n",
    "        if D[s]>0:\n",
    "            if D[s]<x: # if demand less than our stock\n",
    "                x=... # no cost added\n",
    "            else:\n",
    "                J=... #we buy electricity for the demand\n",
    "                x= ...\n",
    "        else: #since D=net demand of energy load minus solar production: if D<0, we produce electricity via the solar prod\n",
    "           \n",
    "            if D[s]>x-x_max:\n",
    "                x=... # we add -D[s] to stock, no cost\n",
    "            else:\n",
    "                J=...#surplus that we sold\n",
    "                x=...\n",
    "    return J\n",
    "    \n",
    "def raisonnable_eval():\n",
    "    global DS,NS, T0\n",
    "    J=0\n",
    "    for l in range(NS):\n",
    "        J=...\n",
    "        #print(J)\n",
    "    J=...\n",
    "    return J"
   ]
  },
  {
   "cell_type": "code",
   "execution_count": 337,
   "id": "fb625f53-a155-4240-a2f8-402fca648a43",
   "metadata": {},
   "outputs": [
    {
     "data": {
      "text/plain": [
       "array([28.05501615])"
      ]
     },
     "execution_count": 337,
     "metadata": {},
     "output_type": "execute_result"
    }
   ],
   "source": [
    "raisonnable_eval()"
   ]
  },
  {
   "cell_type": "markdown",
   "id": "97e943b7-1622-4ab1-8851-e0bc5c41d6d6",
   "metadata": {},
   "source": [
    "# Exercice 9\n",
    "\n",
    "Write a fonction sample realising the sampling of an arbitrary vector $h \\in NE$ values. Use the function sort.\n",
    "\n",
    "Write a function sample_training_set with output a matrix $E \\in \\mathbb{R}^{NE \\times T}$ such that each column contains the sampled values of the vectors $DT[:,T0], DT[:,T0 +1],... DT[:,T0 +T-1]$.\n",
    "\n",
    "Expected result: \n",
    "\n",
    "First column : $[-4.77725278, -4.01198924, -3.38314885, -2.93038295, -2.57365075, -2.14186728, -1.76473744, -1.29947285 ,-0.66349418,  0.27839677]$"
   ]
  },
  {
   "cell_type": "code",
   "execution_count": 338,
   "id": "1737dffa-6ead-4f15-a525-16e4e55910f3",
   "metadata": {},
   "outputs": [],
   "source": [
    "def sample(h,NE):\n",
    "    global NT\n",
    "    q= ...\n",
    "    \n",
    "    h2=...\n",
    "    #print(h2)\n",
    "    z= np.zeros(NE)\n",
    "    for j in range(NE):\n",
    "        z[j]= sum(...)/q #! from j*q to (j+1)*q-1 \n",
    "    return z\n",
    "\n",
    "\n",
    "def sample_training_set(NE):\n",
    "    global T, T0,DT;\n",
    "\n",
    "    E= np.zeros((NE,T));\n",
    "    for t in range(T):\n",
    "        E[:,t]= ...    \n",
    "    return E"
   ]
  },
  {
   "cell_type": "code",
   "execution_count": 339,
   "id": "e6c36b33-b8ae-4d86-a346-5552de78c6e2",
   "metadata": {},
   "outputs": [
    {
     "name": "stdout",
     "output_type": "stream",
     "text": [
      "[-4.77725278 -4.01198924 -3.38314885 -2.93038295 -2.57365075 -2.14186728\n",
      " -1.76473744 -1.29947285 -0.66349418  0.27839677]\n"
     ]
    }
   ],
   "source": [
    "E=sample_training_set(10)\n",
    "print(E[:,0])"
   ]
  },
  {
   "cell_type": "markdown",
   "id": "fdec4133-ba27-4957-8937-d9d75807faa0",
   "metadata": {},
   "source": [
    "# Exercice 10"
   ]
  },
  {
   "cell_type": "markdown",
   "id": "be0bdc75-69d8-4013-81d1-ef4b2ae6051a",
   "metadata": {},
   "source": [
    "Write a function auto_reg_1 realizing the approximation of $d(t)$ as an autoregressive process of order 1\n",
    "\n",
    "Input: $NE$\n",
    "\n",
    "Output variables: $\\gamma \\in \\mathbb{R}^T, \\beta_1 \\in \\mathbb{R}^T, E \\in \\mathbb{R}^{NE\\times T}.$\n",
    "\n",
    "Optional. Write a function auto_reg which realizes the approximation of d(t) by an autoregressive process of arbitrary order (given as input variable).\n",
    "\n",
    "Expected results:\n",
    "\n",
    "$\\gamma[0]= -0.3649, \\beta_1[0]= 0.7682, $\n",
    "$E[:,0]=[\n",
    "    -1.0069,\n",
    "    -0.8394,\n",
    "    -0.7178,\n",
    "    -0.5657,\n",
    "    -0.0792,\n",
    "     0.4544,\n",
    "     0.5283,\n",
    "     0.6303,\n",
    "     0.7166,\n",
    "     0.8794]$\n"
   ]
  },
  {
   "cell_type": "code",
   "execution_count": 347,
   "id": "6b775659-75df-48e0-b8b7-52d107056e69",
   "metadata": {},
   "outputs": [],
   "source": [
    "def auto_reg_1(NE):\n",
    "\n",
    "    global T,T0,DT\n",
    "    beta1= np.zeros(T)\n",
    "    gamma= np.zeros(T)\n",
    "    E= np.zeros((NE,T))\n",
    "    for t in range(T):\n",
    "        fun= lambda x: ...\n",
    "        sol= minimize(fun,[0,0]);\n",
    "        x=sol.x\n",
    "        #print(x)\n",
    "        beta1[t]= ...\n",
    "        gamma[t]= ...\n",
    "        E[:,t]= sample(...)\n",
    "\n",
    "    return gamma, beta1, E\n",
    "    "
   ]
  },
  {
   "cell_type": "code",
   "execution_count": 348,
   "id": "d1eafbc3-e73d-4f6f-ac5e-44d3fb62e902",
   "metadata": {},
   "outputs": [
    {
     "name": "stdout",
     "output_type": "stream",
     "text": [
      "[-3.64920596e-01  3.39541820e-01 -2.32134334e-03 -2.16750096e-01\n",
      " -8.59434452e-02 -1.12819996e+00  4.16569707e+00  3.37867512e+00\n",
      "  1.27918380e+00 -4.71137843e+00 -1.23576099e+00 -1.39483077e+00\n",
      "  6.40439724e-01 -8.69026959e-01 -7.29476724e-01  1.11208561e+00\n",
      "  6.42515437e-01  6.23130647e-01  1.67544278e+00  3.71966527e+00\n",
      "  1.42443036e+00 -6.44641462e+00  2.90174094e-01 -1.54561913e+00]\n",
      "[0.76823356 0.71200769 0.81019918 0.97478824 1.0888146  0.93996108\n",
      " 0.85514147 0.70638915 0.76137643 0.9463442  1.0131899  0.99646022\n",
      " 0.83403957 0.70257359 0.77274986 0.91298702 1.01864786 0.99926106\n",
      " 0.86872348 0.72124587 0.6993772  0.83272378 0.99200363 1.00905716]\n"
     ]
    }
   ],
   "source": [
    "gamma,beta1,E=auto_reg_1(10)\n",
    "print(gamma)\n",
    "print(beta1)\n",
    "#print(E)"
   ]
  },
  {
   "cell_type": "code",
   "execution_count": 342,
   "id": "0196454a-284c-4f43-ad6e-bd77f54e7c46",
   "metadata": {},
   "outputs": [],
   "source": [
    "def auto_reg_l(NE,l): #order l\n",
    "\n",
    "    global T,T0,DT\n",
    "    beta= np.zeros((l,T))\n",
    "    gamma= np.zeros(T)\n",
    "    E= np.zeros((NE,T))\n",
    "    for t in range(T):\n",
    "        fun= lambda x: ...\n",
    "        sol= minimize(fun,[0]*(l+1));\n",
    "        x=sol.x\n",
    "        #print(x)\n",
    "        gamma[t]= ...\n",
    "        for lelement in range(0,l):\n",
    "            beta[lelement,t]= ...\n",
    "        E[:,t]=...\n",
    "\n",
    "    return gamma, beta, E\n"
   ]
  },
  {
   "cell_type": "code",
   "execution_count": 343,
   "id": "f8731765-0533-4154-9d53-ad1feae5e350",
   "metadata": {},
   "outputs": [
    {
     "name": "stdout",
     "output_type": "stream",
     "text": [
      "[-0.49447424  0.37501009  0.18948557 -0.11351881 -0.05104727 -1.09606017\n",
      "  4.02081014  4.0484273   1.77241686 -4.76320081 -1.99718931 -1.73921763\n",
      "  0.45573183 -0.76584273 -0.79697917  1.1130644   0.88768632  0.76513303\n",
      "  1.76105607  3.77394906  1.77363576 -6.53771775 -1.53916139 -1.22538599]\n",
      "[[0.66697329 0.53738259 0.6436579  0.77253464 0.83114445 0.81528601\n",
      "  0.68730267 0.56168645 0.58927249 0.83395878 0.8950604  0.71590124\n",
      "  0.66891166 0.614444   0.61605273 0.81281008 0.88831695 0.84428652\n",
      "  0.74462709 0.68757048 0.59189968 0.65814097 0.77891484 0.72289816]\n",
      " [0.11560664 0.17299553 0.17671066 0.24259814 0.3360263  0.16978016\n",
      "  0.18828213 0.15055124 0.16505034 0.1262086  0.15323632 0.35379428\n",
      "  0.20047631 0.09107688 0.15360972 0.11485738 0.16338539 0.2025645\n",
      "  0.14954614 0.03640317 0.10365213 0.18856198 0.26854245 0.38785429]]\n"
     ]
    }
   ],
   "source": [
    "gamma,beta1,E=auto_reg_l(10,2)\n",
    "print(gamma)\n",
    "print(beta1)"
   ]
  },
  {
   "cell_type": "markdown",
   "id": "b0e1c585-e257-49b8-a1b7-256a0baab52b",
   "metadata": {},
   "source": [
    "# Exercice 11\n",
    "\n",
    "## Predictive model.\n",
    "\n",
    "#### Phase offline. \n",
    "\n",
    "Approximation of $d(t)$ with an autoregressive process of order 1, with the help of coefficients $\\gamma$ and $\\beta_1$.\n",
    "\n",
    "#### Phase online. \n",
    "\n",
    "Let $t$ be the current time step. Let $x_t$ denote the current state-of-charge of the battery and let $d_t$ denote the demand at time $t$.\n",
    "\n",
    "1/ Prediction. \n",
    "\n",
    "Compute $(D_p(s))_{s=t,...,T}$ as follows:\n",
    "$$\n",
    "\\begin{align*}\n",
    "&D_p(t)= d_t,\\\\\n",
    "&D_p(t + 1) = \\gamma(t + 1) + \\beta_1(t + 1)D_p(t), D_p(t+2)= \\gamma(t+2)+\\beta_1(t+2)D_p(t+1),\\\\\n",
    "&... \\\\\n",
    "&D_p(T)=\\gamma(T)+\\beta_1(T)D_p(T −1).\n",
    "\\end{align*}$$\n",
    "\n",
    "2/ Optimization.\n",
    "\n",
    "We solve:\n",
    "    $$\n",
    "   inf_{((x(t),...,x(T+1)),(a(t),...,a(T)),(v(t),...,v(T))} \\sum_{s=t}^{T} \\Big( P_a(s) a(s) - P_v(s) v(s) \\Big).\n",
    " $$\n",
    "s.t\n",
    "\n",
    "- $x(s+1)= x(s) - D_p(s) + a(s) - v(s)$, $\\forall s= t,...,T$\n",
    "- $x(t)= x_t$\n",
    "- $a(s) \\geq 0$, $\\forall s=t,...,T$\n",
    "- $v(s) \\geq 0$, $\\forall s=t,...,T$\n",
    "- $0 \\leq x(s) \\leq x_{\\max}$, $\\forall s=t,...T$.\n",
    "\n",
    "Implement the predictive method\n",
    "\n",
    "Expected results: \n",
    "\n",
    "- $N_E= 10$\n",
    "- Evaluation cost: $5.0205275654553985$."
   ]
  },
  {
   "cell_type": "code",
   "execution_count": 349,
   "id": "f71c5c52-5751-4859-ba7a-b3396192cc92",
   "metadata": {},
   "outputs": [],
   "source": [
    "def predictive_online(D,gamma,beta,t,y):\n",
    "    # t= init time, y= init energy stock\n",
    "    global T,P_a,P_v,xmax\n",
    "\n",
    "    D_p= np.zeros([T-t])#for t0=0, we want to approximate all the D(s) from s=0 to s=T-1\n",
    "    ## First we approximate by an autoregressive processus\n",
    "    D_p[0]= ...\n",
    "    for s in range(1,T-t):\n",
    "        # s=1 corresponds to t+1 and s=T-t-1 correponds to T-1\n",
    "        # thus, D_p[s+1]=gamma[s+1] + beta[s+1]*D_p[s] for an autoregressive of order 1\n",
    "        # gives D_p[1]=gamma[t+1] + beta[t+1]*D_p[0];\n",
    "        # and more generally for any s, yields D_p[s]=...?\n",
    "        D_p[s]=...\n",
    "\n",
    "    ## Then solve the optimization problem\n",
    "    # xi<=xmax for i = 0.. T: concatenate A1=Identity matrix & A2 & A2\n",
    "    A1=np.matrix(np.eye(...))# should give T+1 for t=0\n",
    "    A2=np.zeros((...)) #should give (T+1,T) for t=0\n",
    "    A=np.concatenate((A1,A2,A2), axis=1)\n",
    "\n",
    "    # -x, -a, -v <= 0,0,0\n",
    "    A3=-np.eye(...)\n",
    "    A=np.concatenate((A,A3), axis=0)\n",
    "\n",
    "    #print(np.shape(A))\n",
    "    # xi<=xmax for i = 0.. T\n",
    "    \n",
    "    B1=np.array([...])\n",
    "    # -x, -a, -v <= 0,0,0\n",
    "    B3=np.zeros((...))\n",
    "    \n",
    "    B=np.concatenate((B1.transpose(),B3), axis=0);\n",
    "    #print(B)\n",
    "\n",
    "    \"\"\" \n",
    "    ####### Equality constraints: #######\n",
    "    \"\"\"\n",
    "    # Aeq1:\n",
    "    M1=np.eye(...) #-x(s) and x(s+1) s=0, T-1\n",
    "    M2=np.zeros((...)) #\n",
    "\n",
    "    M=np.concatenate((-M1,M2), axis=1)+np.concatenate((M2,M1),axis=1)\n",
    "\n",
    "    Aeq1=np.concatenate((M,-M1,M1), axis=1) # M & -a(s) & v(s) s=0, T-1\n",
    "    Aeq2=np.concatenate((...)) # #x(0)=0, (with concatenate, don't use axis=1 for only one line, use double parentheses)\n",
    "    \n",
    "    Aeq=np.concatenate((Aeq1,Aeq2.transpose()),axis=0)\n",
    "    Beq=np.concatenate((...))#.reshape((1,1)))) \n",
    "    #print(Beq)\n",
    "    \n",
    "    \"\"\" \n",
    "    solving min c^T * X s.t. A X <= B and Aeq X= Beq\n",
    "    no x in min: 0; \n",
    "    a P_a -v P_v\n",
    "    \"\"\" \n",
    "    # min c^T [x,a,v]\n",
    "    c=np.concatenate((...),axis=0) #cost function: sum_s P_a a(s) - P_v v(s)\n",
    "    #print(c)  #columns of A must be equal to size of c\n",
    "    X=optimize.linprog(c,A_ub=A,b_ub=B,A_eq=Aeq,b_eq=Beq)\n",
    "   \n",
    "    x=X.x[:T-t+1]\n",
    "    a=X.x[T+1-t:2*(T-t)+1]\n",
    "    v=X.x[2*(T-t)+1:]\n",
    "    J= X.fun \n",
    "    #print(\"J\",J)\n",
    "    return x,a,v,J#X.fun\n",
    "\n",
    "\n"
   ]
  },
  {
   "cell_type": "code",
   "execution_count": 350,
   "id": "b97c3eb2-a4d7-4f4e-944f-70111c8a60ba",
   "metadata": {},
   "outputs": [],
   "source": [
    "def predictive_eval(gamma,beta1):\n",
    "\n",
    "    global DS,NS,T0;\n",
    "\n",
    "    GlobalJ= 0;\n",
    "    for l in range(NS):\n",
    "        _,_,_,J= ...\n",
    "        GlobalJ= ...\n",
    "\n",
    "    GlobalJ= ...\n",
    "    return GlobalJ"
   ]
  },
  {
   "cell_type": "code",
   "execution_count": 351,
   "id": "0c9ac4ae-c5a9-4a24-830b-11f6c0bb539e",
   "metadata": {},
   "outputs": [
    {
     "name": "stdout",
     "output_type": "stream",
     "text": [
      "5.0205275654553985\n"
     ]
    }
   ],
   "source": [
    "J=predictive_eval(gamma,beta1)\n",
    "print(J)"
   ]
  },
  {
   "cell_type": "markdown",
   "id": "faff8443-2540-47e7-b094-6fc78257db46",
   "metadata": {},
   "source": [
    "In fact, the previous implementation respects the constraints $x(s+1)=x(s)+a(s)−v(s)−D_p(s)$ with the autoregressive demand $D_p$ but not with the true demand $D(s)$, such that we can't compare this cost (5.0205275654553985) with the optimal cost from exercice 1.\n",
    "\n",
    "Since at every time $t$ the demand $D(t)$ is revealed, we can use it to enhance our model (such that the constraint with the true demand holds):\n",
    "\n",
    "In that case, we only save the solution $x(s+1)$, $a(s)$, $v(s)$ for one time $s$ and then update the cost with these saved solutions (and proceed with $s+1$ and so on...) for $s$ going from an initial time $t$ with an initial energy stock y.\n",
    "\n",
    "#### Correct the previous version in order that the constraint with the true demand holds\n",
    "To simplify the implementation, you can take $t=0$ and $y=0$.\n",
    "\n",
    "#Expected result: 13.22638501 "
   ]
  },
  {
   "cell_type": "code",
   "execution_count": 353,
   "id": "42d7cbcf-94bf-4b62-b88c-bdc46fa24094",
   "metadata": {},
   "outputs": [],
   "source": [
    "def predictive_online(D,gamma,beta): #with t0=0 and y=0\n",
    "\n",
    "    global T,P_a,P_v,xmax\n",
    "\n",
    "    x_saved= np.zeros((T+1));\n",
    "    a_saved= np.zeros((T));\n",
    "    v_saved= np.zeros((T));\n",
    "\n",
    "    ## Then solve the optimization problem\n",
    "    # xi<=xmax for i = 0.. T: concatenate A1=Identity matrix & A2 & A2\n",
    "       \n",
    "    for t in range(0,T): # from init t0=0 to T-1\n",
    "\n",
    "        D_p= np.zeros(T-t) \n",
    "        D_p[0]= ...\n",
    "        for s in range(1,T-t):#(T-t+1) # 0, 1, ..., T-2 for t=1\n",
    "            D_p[s]= ...\n",
    "        \n",
    "        #print(\"t\",t)\n",
    "        A1=np.matrix(...)# should give T+1 for t=0\n",
    "        A2=np.zeros((...)) #should give (T+1,T) for t=0\n",
    "        A=np.concatenate((A1,A2,A2), axis=1)\n",
    "\n",
    "        # -x, -a, -v <= 0,0,0\n",
    "        A3=-np.eye(...)\n",
    "        A=np.concatenate((A,A3), axis=0)\n",
    "\n",
    "        #print(np.shape(A))\n",
    "        # xi<=xmax for i = 0.. T\n",
    "    \n",
    "        B1=np.array(...)\n",
    "        # -x, -a, -v <= 0,0,0\n",
    "        B3=np.zeros((...))\n",
    "    \n",
    "        B=np.concatenate((B1.transpose(),B3), axis=0);\n",
    "        #print(B)\n",
    "\n",
    "        \"\"\" \n",
    "        ####### Equality constraints: #######\n",
    "        \"\"\"\n",
    "        # Aeq1:\n",
    "        M1=np.eye(...) #-x(s) and x(s+1) s=0, T-1\n",
    "        M2=np.zeros((...)) #\n",
    "\n",
    "        M=np.concatenate((-M1,M2), axis=1)+np.concatenate((M2,M1),axis=1)\n",
    "\n",
    "        Aeq1=np.concatenate((M,-M1,M1), axis=1) # M & -a(s) & v(s) s=0, T-1\n",
    "        Aeq2=np.concatenate((...)) # #x(0)=0, (with concatenate, don't use axis=1 for only one line, use double parentheses)\n",
    "    \n",
    "        Aeq=np.concatenate((Aeq1,Aeq2.transpose()),axis=0)\n",
    "       \n",
    "        Beq=np.concatenate((...))\n",
    "        #print(Beq)\n",
    "    \n",
    "        \"\"\" \n",
    "        solving min c^T * X s.t. A X <= B and Aeq X= Beq\n",
    "        no x in min: 0; \n",
    "        a P_a -v P_v\n",
    "        \"\"\" \n",
    "        # min c^T [x,a,v]\n",
    "        c=np.concatenate((...),axis=0) #cost function: sum_s P_a a(s) - P_v v(s)\n",
    "        #print(c)  #columns of A must be equal to size of c\n",
    "        X=optimize.linprog(c,A_ub=A,b_ub=B,A_eq=Aeq,b_eq=Beq)\n",
    "\n",
    "        x_saved[t+1]= X.x[1];\n",
    "        a_saved[t]= X.x[T+1-t];\n",
    "        v_saved[t]= X.x[2*(T-t)+1];\n",
    "\n",
    "    \n",
    "    J= np.dot(P_a.transpose(),a_saved)-np.dot(P_v.transpose(),v_saved)\n",
    "    #print(\"J\",J)\n",
    "    return x_saved,a_saved,v_saved,J\n",
    "\n",
    "\n"
   ]
  },
  {
   "cell_type": "code",
   "execution_count": 354,
   "id": "5d5e58ee-f8d2-430d-8837-ba50fd438995",
   "metadata": {},
   "outputs": [],
   "source": [
    "def predictive_eval(gamma,beta1):\n",
    "\n",
    "    global DS,NS,T0;\n",
    "\n",
    "    GlobalJ= 0;\n",
    "    \n",
    "    for l in range(NS):\n",
    "        _,_,_,J= ...\n",
    "        GlobalJ= ...\n",
    "\n",
    "    GlobalJ= ...\n",
    "    return GlobalJ"
   ]
  },
  {
   "cell_type": "code",
   "execution_count": 355,
   "id": "7b1f7361-a7ef-4262-a900-009cdbc4d3fc",
   "metadata": {},
   "outputs": [
    {
     "data": {
      "text/plain": [
       "array([13.22638501])"
      ]
     },
     "execution_count": 355,
     "metadata": {},
     "output_type": "execute_result"
    }
   ],
   "source": [
    "predictive_eval(gamma,beta1)"
   ]
  },
  {
   "cell_type": "markdown",
   "id": "2ab64b50-197a-405d-95e2-67eb9c2d5f57",
   "metadata": {},
   "source": []
  },
  {
   "cell_type": "markdown",
   "id": "61fa5591-74ac-49f2-b0ec-d09ae6a71471",
   "metadata": {},
   "source": [
    "# Exercise 12;\n",
    "\n",
    "Implement the control strategy induced by the dynamic programming principle with the auto-regressive model of order zero.\n",
    "\n",
    "% Answer: 10.27\n"
   ]
  },
  {
   "cell_type": "code",
   "execution_count": null,
   "id": "9e324f62-80f3-4779-b0a7-1b90886c5097",
   "metadata": {},
   "outputs": [],
   "source": [
    "def DP_solve_0(t,y,alpha,d_t):\n",
    "\n",
    "    global x_max;\n",
    "    global P_a;\n",
    "    global P_v;\n",
    "\n",
    "    return z,a,v,val"
   ]
  },
  {
   "cell_type": "code",
   "execution_count": null,
   "id": "502608ec-7bf0-4321-ae46-d7b959180da4",
   "metadata": {},
   "outputs": [],
   "source": [
    "def DP_backward_0(N_E):\n",
    "\n",
    "    D = sample_training_set(N_E);\n",
    "\n",
    "    global T;\n",
    "    global J;\n",
    "    global x_max;\n",
    "\n",
    "    alpha= zeros(3,T+1);\n",
    "    ...\n",
    "    return alpha\n"
   ]
  },
  {
   "cell_type": "code",
   "execution_count": null,
   "id": "6fabafff-dd9f-4f64-92b8-4bd835660a90",
   "metadata": {},
   "outputs": [],
   "source": [
    "def DP_forward_0_online(alpha,d):\n",
    "\n",
    "    global T;\n",
    "    global P_a;\n",
    "    global P_v;\n",
    "\n",
    "    x= np.zeros((T+1,1))\n",
    "    a= np.zeros((T,1))\n",
    "    v= np.zeros((T,1))\n",
    "    ...\n",
    "    return x, a, v, val\n",
    "\n",
    "\n",
    "\n",
    "\n",
    "def DP_forward_0_eval(N_E):\n",
    "\n",
    "    global N_S;\n",
    "    global D_S;\n",
    "    global T_0;\n",
    "    global T;\n",
    "\n",
    "    alpha= DP_backward_0(N_E)\n",
    "    ...\n",
    "    cost= 0\n",
    "    return cost\n"
   ]
  },
  {
   "cell_type": "code",
   "execution_count": null,
   "id": "06896bff-7ea9-47cb-902f-8593156227e6",
   "metadata": {},
   "outputs": [],
   "source": [
    "J= 10;\n",
    "N_E= 10;\n",
    "\n",
    "alpha= ...\n",
    "\n",
    "cost = ...\n"
   ]
  },
  {
   "cell_type": "code",
   "execution_count": null,
   "id": "2fd26a1f-773f-4977-aae6-148d0a14d77c",
   "metadata": {},
   "outputs": [],
   "source": []
  },
  {
   "cell_type": "code",
   "execution_count": null,
   "id": "ec7be43b-e3d4-4c1e-bbe0-f83872290737",
   "metadata": {},
   "outputs": [],
   "source": []
  },
  {
   "cell_type": "code",
   "execution_count": null,
   "id": "8a5962da-1413-45eb-a946-d3ed033e0c51",
   "metadata": {},
   "outputs": [],
   "source": []
  }
 ],
 "metadata": {
  "kernelspec": {
   "display_name": "Python 3 (ipykernel)",
   "language": "python",
   "name": "python3"
  },
  "language_info": {
   "codemirror_mode": {
    "name": "ipython",
    "version": 3
   },
   "file_extension": ".py",
   "mimetype": "text/x-python",
   "name": "python",
   "nbconvert_exporter": "python",
   "pygments_lexer": "ipython3",
   "version": "3.11.9"
  }
 },
 "nbformat": 4,
 "nbformat_minor": 5
}

{
 "cells": [
  {
   "cell_type": "code",
   "execution_count": null,
   "id": "43d853bf-2bed-457c-aa32-b81a5385e5ad",
   "metadata": {},
   "outputs": [],
   "source": [
    "data;\n",
    "\n",
    "#incoming flow\n",
    "param :trange: Q:=\n",
    "1  386\n",
    "2  346\n",
    "3  416\n",
    "4  713\n",
    "5  1532\n",
    "6  2000\n",
    "7  1982\n",
    "8  1431\n",
    "9  780\n",
    "10 476\n",
    "11 450\n",
    "12 420\n",
    ";\n",
    "\n",
    "# revenue\n",
    "param B:=\n",
    "1 3500\n",
    "2 700\n",
    "3 2250\n",
    "4 500\n",
    ";\n",
    "\n",
    "param d : 1     2     3    4     5    6     7     8    9     10  11  12:=\n",
    "1         3     3     3    2     4    5     5     4    5     0   0   0\n",
    "2         0     0     0    1     3    3     0     0    0.2   0   0   0\n",
    "3         0     0     0    4.5   7    8     8     7    0.5   0   0   0\n",
    "4         0     0     0    0.5   2    3.5   3.5   2.5  0.5   0   0   0\n",
    ";\n",
    "model;"
   ]
  }
 ],
 "metadata": {
  "kernelspec": {
   "display_name": "Python 3 (ipykernel)",
   "language": "python",
   "name": "python3"
  },
  "language_info": {
   "codemirror_mode": {
    "name": "ipython",
    "version": 3
   },
   "file_extension": ".py",
   "mimetype": "text/x-python",
   "name": "python",
   "nbconvert_exporter": "python",
   "pygments_lexer": "ipython3",
   "version": "3.11.9"
  }
 },
 "nbformat": 4,
 "nbformat_minor": 5
}

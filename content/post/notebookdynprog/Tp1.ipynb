{
 "cells": [
  {
   "cell_type": "code",
   "execution_count": null,
   "id": "cd3d5543-dc57-4172-bb0b-f88fadd3b9d3",
   "metadata": {},
   "outputs": [],
   "source": [
    "#Install package\n",
    "import sys\n",
    "!{sys.executable} -m pip install numpy\n",
    "!{sys.executable} -m pip install matplotlib\n"
   ]
  },
  {
   "cell_type": "code",
   "execution_count": 14,
   "id": "db104f76-1af6-460c-9a82-0ed8967bde0b",
   "metadata": {},
   "outputs": [],
   "source": [
    "# import packages\n",
    "\n",
    "import numpy as np\n",
    "import scipy\n",
    "from scipy import optimize\n",
    "from scipy.optimize import minimize"
   ]
  },
  {
   "cell_type": "markdown",
   "id": "365f8a80-7d2e-46fe-9963-b975b4415dc6",
   "metadata": {},
   "source": [
    "## Deterministic model\n",
    "\n",
    "- Time scale: the decisions are taken every hour during the day.\n",
    "\n",
    "- Optimization variables (at each time step) :\n",
    "    - the amount of energy to be stored or withdrawn from the battery\n",
    "    - the amount of energy bought or sold to the network.\n",
    "\n",
    "- Contraints:\n",
    "    -  nonnegativity of variables\n",
    "    -  evolution of the battery\n",
    "    -  storage capacity of the battery.\n",
    "\n",
    "-  Cost function:\n",
    "    - Cost of the energy bought on the network...\n",
    "    - minus the cost of the energy sold on the network.\n",
    "\n",
    "#### The problem is modeled by:\n",
    "\n",
    "- Horizon: 24 hours, stepsize: 1 hour. \n",
    "- Optimization over $T= 24$ intervals.\n",
    "\n",
    "- Optimisation variable :\n",
    "    - $x(s)$ : state of charge of the battery at time $s$, $s= 0,...,T$\n",
    "    - $a(s)$: amount of electricity bought on the network ($s= 0,...,T-1$).\n",
    "    - $v(s)$: amount of energy sold on the network ($s= 0,...,T-1$). \n",
    "\n",
    "\n",
    "- Parameters:\n",
    "    - $d(s)$: net demand of energy (load minus solar production) at time $s$, $s= 0,...,T-1$.\n",
    "    - $P_a(s)$ : unitary buying price of energy at time $s$, $s= 0,...,T-1$\n",
    "    - $P_v(s)$ : unitary selling price of energy at time $s$, $s= 0,...,T-1$\n",
    "    - $x_{\\max}$: storage capacity of the battery.\n",
    "\n",
    "- Contraints:\n",
    "    - $x(s+1)= x(s) - d(s) + a(s) - v(s)$, $\\forall s= 0,...,T-1$\n",
    "    - $x(0)= 0$\n",
    "    - $a(s) \\geq 0$, $\\forall s=0,...,T-1$\n",
    "    - $v(s) \\geq 0$, $\\forall s=0,...,T-1$\n",
    "    - $0 \\leq x(s) \\leq x_{\\max}$, $\\forall s=0,...T$.\n",
    "\n",
    "- Cost function to be minimized:\n",
    "    $$J(x,a,v)= \\sum_{s=0}^{T-1} \\Big( P_a(s) a(s) - P_v(s) v(s) \\Big).$$\n",
    "\n",
    "\n",
    "\n",
    "## Exercice 1\n",
    "\n",
    "Write the optimization problem in a form that is compatible with the function linprog\n",
    "\n",
    "% Exercise 1: Indication: you should find optimal value= 124\n"
   ]
  },
  {
   "cell_type": "code",
   "execution_count": 12,
   "id": "39c86181-c771-491d-9863-88e9303dd2a8",
   "metadata": {},
   "outputs": [],
   "source": [
    "T= 24; # Time\n",
    "x_max= 5; # battery maximum storage \n",
    "P_a= np.array([2, 2, 2, 2, 2, 2, 3, 3, 3, 3, 2, 2, 2, 2, 2, 2, 2, 4, 4, 4, 4, 3, 3, 2]); # unitary buying price of energy at time s\n",
    "P_v= np.array([1, 1, 1, 1, 1, 1, 1, 1, 1, 1, 1, 1, 1, 1, 1, 1, 1, 2, 2, 2, 2, 2, 1, 1]); # unitary selling price of energy at time s\n",
    "\n",
    "d =np.array([-1, -1, -1, -1, -1, -2, 2 ,6, 8, 4, 2,  0,  0, -1, -2, -1,  0,  1, 3, 7, 9, 3, 2,  0]); # net demand of energy (already known)\n",
    "#d =np.array([-2, -2, -2, -2, -2, -3, 1 ,4 ,6 ,3 ,1, -1, -1, -2, -3, -2, -1,  0, 2 ,5 ,5, 2, 1, -1]);\n",
    "#d =np.array([-3 ,-3 ,-3 ,-3 ,-3 ,-4 ,0 ,2 ,4, 2, 0 ,-2 ,-2 ,-3 ,-4 ,-3 ,-2 ,-1 ,1 ,3 ,5 ,1 ,0 ,-2]);\n",
    "\n",
    "d=d.reshape((T,1))\n",
    "P_a=P_a.reshape(T,1)\n",
    "P_v=P_v.reshape(T,1)\n",
    "\n",
    "# with T=2 (for testing purposes ...)\n",
    "# T = 2;\n",
    "#x_max= 5;\n",
    "\n",
    "#P_a=np.array([-1, -1])\n",
    "#P_v=P_a\n",
    "#d =np.array([-1, -1])\n",
    "#d=d.reshape(T,1)\n",
    "#P_a=P_a.reshape(T,1)\n",
    "#P_v=P_v.reshape(T,1)"
   ]
  },
  {
   "cell_type": "code",
   "execution_count": 31,
   "id": "5dfeb02e-1fef-4376-9a14-f66de43b3b2d",
   "metadata": {},
   "outputs": [],
   "source": [
    "def solve_deterministic_pb():\n",
    "    global d, P_a,P_v\n",
    "    \"\"\" print x,a,v and J(x,a,v) \"\"\" \n",
    "    \n",
    "    \"\"\" \n",
    "    #######  Inequality constraints: #######\n",
    "    \n",
    "    xi<=xmax for i = 0.. T: concatenate A1=Identity matrix & A2 & A2\n",
    "    ---------------\n",
    "    -x<=0 (size T+1 ! )\n",
    "    -a<=0 (size T)\n",
    "    -v<=0 (size T) : identity matrix A3 (size 3T+1)\n",
    "    ---------------\n",
    "    \n",
    "    #A X <= B \n",
    "    Indications: with A of shape((len(x)+1 + len(a)+1 + len(v)+1 , len(x) + len (a) + len(v))) #e.g. (10, 7) for T=2\n",
    "    with B= [x_max*np.ones(T+1,1)],\n",
    "             np.zeros((3*T+1,1))];\n",
    "    \"\"\"\n",
    "\n",
    "    # xi<=xmax for i = 0.. T: concatenate A1=Identity matrix & A2 & A2\n",
    "    A1=...\n",
    "    A2=...\n",
    "    A=np.concatenate((A1,A2,A2), axis=1)\n",
    "\n",
    "    # -x, -a, -v <= 0,0,0\n",
    "    A3=...\n",
    "    A=...\n",
    "\n",
    "    #print(np.shape(A))\n",
    "\n",
    "    # xi<=xmax for i = 0.. T\n",
    "    B1=...\n",
    "    # -x, -a, -v <= 0,0,0\n",
    "    B3=...\n",
    "    \n",
    "    B=np.concatenate((B1.transpose(),B3), axis=0);\n",
    "    #print(B)\n",
    "\n",
    "    \"\"\" \n",
    "    ####### Equality constraints: #######\n",
    "    ---------------\n",
    "    Aeq1:\n",
    "    x(s+1)-x(s)-a(s)+v(s)=-d(s) for all s=0...T-1\n",
    "    -1.  1. on the diagonal (-x(s)+x(s+1))\n",
    "    -1 for a(s)\n",
    "    1 for v(s) \n",
    "    \n",
    "    ---------------\n",
    "    Aeq2\n",
    "     x(0)=0 \n",
    "   \n",
    "    ---------------\n",
    "    \n",
    "    # Aeq X = Beq \n",
    "    with Beq= [-d,0] # -d for Aeq1 and 0 for Aeq2\n",
    "    \n",
    "    \"\"\"\n",
    "    # Aeq1:\n",
    "    M1=... #-x(s) and x(s+1) s=0, T-1\n",
    "    M2=... #\n",
    "    M=np.concatenate((-M1,M2), axis=1)+np.concatenate((M2,M1),axis=1)\n",
    "    \n",
    "    Aeq1=... # M & -a(s) & v(s) s=0, T-1\n",
    "    Aeq2=... # #x(0)=0, (with concatenate, don't use axis=1 for only one line, use double parentheses)\n",
    "    #print(Aeq2)\n",
    "    Aeq=np.concatenate((Aeq1,Aeq2.transpose()),axis=0)\n",
    "    #print(Aeq)\n",
    "   \n",
    "    Beq=np.concatenate((-d,np.zeros((1,1)))) \n",
    "    #print(Beq)\n",
    "    \"\"\" \n",
    "    solving min c^T * X s.t. A X <= B and Aeq X= Beq\n",
    "    no x in min: 0; \n",
    "    a P_a -v P_v\n",
    "    \"\"\" \n",
    "    # min c^T [x,a,v]\n",
    "    c=...#cost function: sum_s P_a a(s) - P_v(v)\n",
    "    #print(c)  #columns of A must be equal to size of c\n",
    "    X=optimize.linprog(...)\n",
    "   \n",
    "    print(\"x:\", X.x[:T+1])\n",
    "    print(np.shape(X.x[:T+1]))\n",
    "    print(\"a:\", X.x[T+1:2*T+1])\n",
    "    print(np.shape(X.x[T+1:2*T+1]))\n",
    "    print(\"v:\", X.x[2*T+1:])\n",
    "    print(np.shape(X.x[2*T+1:]))\n",
    "    print(\"Optimal cost\", X.fun)"
   ]
  },
  {
   "cell_type": "code",
   "execution_count": 32,
   "id": "b200eb12-55ce-452a-9cbd-2a48507d0ca8",
   "metadata": {},
   "outputs": [
    {
     "name": "stdout",
     "output_type": "stream",
     "text": [
      "x: [-0.  0.  0.  1.  2.  3.  5.  5.  0.  0.  0.  0.  0.  0.  1.  3.  5.  5.\n",
      "  5.  5.  0.  0.  0.  0.  0.]\n",
      "(25,)\n",
      "a: [ 0.  0.  0.  0.  0.  0.  2.  1.  8.  4.  2. -0. -0.  0.  0.  1. -0.  1.\n",
      "  3.  2.  9.  3.  2.  0.]\n",
      "(24,)\n",
      "v: [ 1.  1. -0.  0.  0.  0.  0.  0.  0.  0.  0.  0.  0.  0.  0.  0.  0.  0.\n",
      "  0.  0.  0.  0.  0. -0.]\n",
      "(24,)\n",
      "Optimal cost 124.0\n"
     ]
    }
   ],
   "source": [
    "solve_deterministic_pb()"
   ]
  },
  {
   "cell_type": "markdown",
   "id": "1965a333-786e-457e-a0d7-77adfba2e751",
   "metadata": {},
   "source": [
    "# Exercice 2\n",
    "### interpolation d'ordre 2\n",
    "% with y=[0 1 2] and val=[1 3 7], the solution is alpha= [1 1 1]"
   ]
  },
  {
   "cell_type": "code",
   "execution_count": 33,
   "id": "aba2c91b-e74e-42e5-966a-a697d0c16a72",
   "metadata": {},
   "outputs": [],
   "source": [
    "from scipy.optimize import minimize"
   ]
  },
  {
   "cell_type": "code",
   "execution_count": 34,
   "id": "3b13add5-ba21-4ba9-bbcd-ff99feec4f6c",
   "metadata": {},
   "outputs": [],
   "source": [
    "def interpolate_2(y,val):\n",
    "\n",
    "    def objective(alpha):\n",
    "        return ...\n",
    "\n",
    "    # initial guess\n",
    "    n = 3\n",
    "    alpha0 = np.zeros(n)\n",
    "\n",
    "    # show initial objective\n",
    "    #print('Initial SSE Objective: ' + str(objective(alpha0)))\n",
    "\n",
    "    # optimize\n",
    " \n",
    "    solution = minimize(...) \n",
    "    #print('Output SSE Objective: ' + str((solution.fun)))\n",
    "    #print('Optimal minimizers: ' + str((solution.x)))\n",
    "    return solution.x"
   ]
  },
  {
   "cell_type": "code",
   "execution_count": 35,
   "id": "434c1bb7-87cd-4a8d-aad9-4147be8c5c9d",
   "metadata": {},
   "outputs": [
    {
     "data": {
      "text/plain": [
       "array([0.99999997, 1.00000017, 0.99999991])"
      ]
     },
     "execution_count": 35,
     "metadata": {},
     "output_type": "execute_result"
    }
   ],
   "source": [
    "#% Exercise 2: with y=[0 1 2] and z=[1 3 7], the solution is alpha= [1 1 1]\n",
    "y=np.array([0,1,2])\n",
    "val=np.array([1,3,7])\n",
    "interpolate_2(y,val)"
   ]
  },
  {
   "cell_type": "markdown",
   "id": "16e48099-2ff8-46fd-b031-70e531561383",
   "metadata": {},
   "source": [
    "# Exercice 3"
   ]
  },
  {
   "cell_type": "markdown",
   "id": "01a62a93-0a30-4f43-bdc6-948e768a902c",
   "metadata": {},
   "source": [
    "### DP_solve"
   ]
  },
  {
   "cell_type": "code",
   "execution_count": 36,
   "id": "54ac3e2a-0ba4-48a2-9309-c45a12143aa6",
   "metadata": {},
   "outputs": [],
   "source": [
    "def DP_solve(t,y,alpha):\n",
    "    def cost(X):\n",
    "        # X[0]=y X[1]=a, X[2]= v \n",
    "        # inf P_a*a -Pv*v + V(t+1,z) (V(t+1, z) en fonction de plusieurs valeurs de z\n",
    "        return ...\n",
    "\n",
    "    # x,a,v>=0, x<=xmax -> bounds\n",
    "    # z -a +v = y -d[t] -> contraints\n",
    "    \n",
    "    #print(d[t])\n",
    "   \n",
    "    cons = ({'type': 'eq', 'fun': lambda x: ...})\n",
    "    bnds = (...)\n",
    "    res = minimize(...);\n",
    "    X=res.x\n",
    "    #print(\"objective solution: \",res.fun)\n",
    "    #print(\"min solution: \",res.x)\n",
    "    z= X[0];\n",
    "    a= X[1];\n",
    "    v= X[2];\n",
    "    \n",
    "    return z,a,v,res.fun\n",
    "    \n",
    "\n"
   ]
  },
  {
   "cell_type": "code",
   "execution_count": 37,
   "id": "35c72e36-4593-4345-b613-a64d0fdbd714",
   "metadata": {},
   "outputs": [
    {
     "data": {
      "text/plain": [
       "(0.49999999068677436, 0.0, 0.5000000093132256, -0.24999999999999992)"
      ]
     },
     "execution_count": 37,
     "metadata": {},
     "output_type": "execute_result"
    }
   ],
   "source": [
    "t=0, \n",
    "y=0, \n",
    "alpha=np.array([ 1, -2,  1])\n",
    "DP_solve(t,y,alpha)\n",
    "# the solution is z= 0.5, a= 0, v= 0.5, the optimal value is -0.25."
   ]
  },
  {
   "cell_type": "markdown",
   "id": "6dbc3463-243e-40b1-8218-e8d675caa07a",
   "metadata": {},
   "source": [
    "# Exercice 4"
   ]
  },
  {
   "cell_type": "code",
   "execution_count": 42,
   "id": "c4a0b9aa-06f0-401f-a43c-ad8ecb8d53e5",
   "metadata": {},
   "outputs": [],
   "source": [
    "J=10\n",
    "def DP_backward():\n",
    "    \n",
    "    global T;\n",
    "    global J;\n",
    "    global x_max;\n",
    "    \n",
    "    alpha= np.zeros((3,T+1));#V(T+1,z)=0\n",
    "    y_grid= np.zeros(J)\n",
    "    \n",
    "    for j in range(J):\n",
    "        y_grid[j]=... #yj={0,...,x_max}, j=0...J-1\n",
    "        \n",
    "    for t in reversed(range(T)): # Backward in time \n",
    "    \n",
    "        Val_update=np.zeros(J) #V(t+1,z)\n",
    "        for j in range(J): # for all value y_j, we evaluate V(t,y_j) (first with alpha=0 )\n",
    "            _,_,_,val= DP_solve(...)\n",
    "            \n",
    "            Val_update[j]= val;\n",
    "\n",
    "        #print(y_grid,\"z\",z)\n",
    "        alpha[:,t]= interpolate_2(...); # (then with alpha = interpolation of V(t,y_j) and so on...)\n",
    "\n",
    "    return alpha"
   ]
  },
  {
   "cell_type": "code",
   "execution_count": 43,
   "id": "fb625f53-a155-4240-a2f8-402fca648a43",
   "metadata": {},
   "outputs": [
    {
     "data": {
      "text/plain": [
       "array([[ 1.23631437e+02,  1.24791155e+02,  1.26095882e+02,\n",
       "         1.27656100e+02,  1.29587347e+02,  1.31916134e+02,\n",
       "         1.40773709e+02,  1.34773709e+02,  1.16773710e+02,\n",
       "         9.30031462e+01,  8.08861154e+01,  7.68542717e+01,\n",
       "         7.68635386e+01,  7.68814136e+01,  7.88586402e+01,\n",
       "         8.30747352e+01,  8.49474625e+01,  9.49474620e+01,\n",
       "         9.09474628e+01,  7.89474634e+01,  5.09474632e+01,\n",
       "         1.49474628e+01,  5.94545415e+00,  1.67766160e-07,\n",
       "         0.00000000e+00],\n",
       "       [-1.08846000e+00, -1.17081109e+00, -1.32595089e+00,\n",
       "        -1.59971656e+00, -2.00087060e+00, -2.43166594e+00,\n",
       "        -2.99999953e+00, -2.99999935e+00, -2.99999937e+00,\n",
       "        -3.26596357e+00, -2.19027431e+00, -1.61937311e+00,\n",
       "        -1.63962941e+00, -1.67967549e+00, -2.05487349e+00,\n",
       "        -2.29060523e+00, -1.99999953e+00, -3.99999898e+00,\n",
       "        -3.99999937e+00, -4.00000031e+00, -4.00000033e+00,\n",
       "        -3.19803556e+00, -3.32757498e+00, -1.00000005e+00,\n",
       "         0.00000000e+00],\n",
       "       [ 1.24663331e-02,  2.40182821e-02,  4.55023072e-02,\n",
       "         8.18284764e-02,  1.27903185e-01,  1.59545303e-01,\n",
       "        -4.14799962e-08, -1.31699557e-07, -1.29224448e-07,\n",
       "         7.70765417e-02,  1.09805403e-01,  7.34671183e-02,\n",
       "         7.91449183e-02,  9.06201514e-02,  1.27500734e-01,\n",
       "         8.45452442e-02, -1.10380417e-07, -1.77990387e-07,\n",
       "        -1.35081699e-07,  5.36456687e-08,  5.07712857e-08,\n",
       "         5.81728157e-02,  3.19090748e-01,  1.73503868e-09,\n",
       "         0.00000000e+00]])"
      ]
     },
     "execution_count": 43,
     "metadata": {},
     "output_type": "execute_result"
    }
   ],
   "source": [
    "DP_backward()"
   ]
  },
  {
   "cell_type": "markdown",
   "id": "97e943b7-1622-4ab1-8851-e0bc5c41d6d6",
   "metadata": {},
   "source": [
    "# Exercice 5"
   ]
  },
  {
   "cell_type": "code",
   "execution_count": 64,
   "id": "1737dffa-6ead-4f15-a525-16e4e55910f3",
   "metadata": {},
   "outputs": [],
   "source": [
    "alpha= DP_backward(); # for any z, interpolation of V(t+1,z)\n",
    "def DP_forward():\n",
    "    \n",
    "    global T;\n",
    "    global P_a;\n",
    "    global P_v;\n",
    "\n",
    "    x= np.zeros(T+1); #initialization\n",
    "    a= np.zeros(T);\n",
    "    v= np.zeros(T);\n",
    "    for t in range(0,T):\n",
    "        z,a0,v0,_= ... # solve\n",
    "        x[t+1]= ...;# update\n",
    "        a[t]= ... ;\n",
    "        v[t]= ... ;\n",
    "\n",
    "    val= ... #cost\n",
    "    return x, a, v, val"
   ]
  },
  {
   "cell_type": "code",
   "execution_count": 65,
   "id": "e6c36b33-b8ae-4d86-a346-5552de78c6e2",
   "metadata": {},
   "outputs": [
    {
     "name": "stdout",
     "output_type": "stream",
     "text": [
      "X [0.00000000e+00 1.00000000e+00 2.00000000e+00 3.00000000e+00\n",
      " 3.91260913e+00 4.48671136e+00 5.00000000e+00 3.00000000e+00\n",
      " 0.00000000e+00 1.72531780e+00 0.00000000e+00 1.11022302e-15\n",
      " 0.00000000e+00 0.00000000e+00 1.00000000e+00 3.00000000e+00\n",
      " 4.00000000e+00 5.00000000e+00 4.00000000e+00 1.00000000e+00\n",
      " 4.44089210e-16 0.00000000e+00 5.13294201e-01 0.00000000e+00\n",
      " 0.00000000e+00] a [2.28983499e-16 0.00000000e+00 0.00000000e+00 0.00000000e+00\n",
      " 0.00000000e+00 0.00000000e+00 2.22044605e-16 3.00000000e+00\n",
      " 9.72531780e+00 2.27468220e+00 2.00000000e+00 0.00000000e+00\n",
      " 0.00000000e+00 0.00000000e+00 0.00000000e+00 0.00000000e+00\n",
      " 9.99999970e-01 0.00000000e+00 2.22044605e-16 6.00000000e+00\n",
      " 9.00000000e+00 3.51329420e+00 1.48670580e+00 0.00000000e+00] v [1.11022302e-16 1.77635684e-15 0.00000000e+00 8.73908685e-02\n",
      " 4.25897770e-01 1.48671136e+00 6.66133815e-16 0.00000000e+00\n",
      " 0.00000000e+00 0.00000000e+00 1.44328993e-15 0.00000000e+00\n",
      " 0.00000000e+00 1.11022302e-16 0.00000000e+00 0.00000000e+00\n",
      " 0.00000000e+00 0.00000000e+00 0.00000000e+00 1.55431223e-15\n",
      " 0.00000000e+00 0.00000000e+00 0.00000000e+00 0.00000000e+00]\n",
      "val [123.99999994]\n"
     ]
    }
   ],
   "source": [
    "x,a,v,val=DP_forward()\n",
    "print(\"X\",x,\"a\",a,\"v\",v)\n",
    "print(\"val\",val)"
   ]
  },
  {
   "cell_type": "code",
   "execution_count": null,
   "id": "00e8fa9d-3371-44c9-a9a1-9dddfbdde4f4",
   "metadata": {},
   "outputs": [],
   "source": []
  },
  {
   "cell_type": "code",
   "execution_count": null,
   "id": "0d21bbe7-f697-4678-b1fc-b9b6552ede7f",
   "metadata": {},
   "outputs": [],
   "source": []
  }
 ],
 "metadata": {
  "kernelspec": {
   "display_name": "Python 3 (ipykernel)",
   "language": "python",
   "name": "python3"
  },
  "language_info": {
   "codemirror_mode": {
    "name": "ipython",
    "version": 3
   },
   "file_extension": ".py",
   "mimetype": "text/x-python",
   "name": "python",
   "nbconvert_exporter": "python",
   "pygments_lexer": "ipython3",
   "version": "3.11.9"
  }
 },
 "nbformat": 4,
 "nbformat_minor": 5
}

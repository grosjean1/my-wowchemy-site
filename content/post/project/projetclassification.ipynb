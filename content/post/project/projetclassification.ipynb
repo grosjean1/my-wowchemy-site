{
 "cells": [
  {
   "cell_type": "markdown",
   "metadata": {},
   "source": [
    "<center><h1> Project </h1><h2>Logistic regression</h2></center>"
   ]
  },
  {
   "cell_type": "code",
   "execution_count": 214,
   "metadata": {},
   "outputs": [],
   "source": [
    "#Install package\n",
    "import sys\n",
    "!{sys.executable} -m pip install numpy\n",
    "!{sys.executable} -m pip install matplotlib\n",
    "!{sys.executable} -m pip install scikit-learn"
   ]
  },
  {
   "cell_type": "code",
   "execution_count": 2,
   "metadata": {},
   "outputs": [],
   "source": [
    "import numpy as np\n",
    "import matplotlib.pyplot as plt\n",
    "from time import time\n",
    "import random\n",
    "import sklearn"
   ]
  },
  {
   "cell_type": "markdown",
   "metadata": {},
   "source": [
    "#### 1) Device Type:\n",
    "Choose a device type (Lights, Camera, Smart Speaker, Thermostat,...) and plot the data"
   ]
  },
  {
   "cell_type": "code",
   "execution_count": 3,
   "metadata": {},
   "outputs": [
    {
     "name": "stdout",
     "output_type": "stream",
     "text": [
      "Nombre d'occurrences de l'objet choisi dans la colonne 2 : 1039\n"
     ]
    }
   ],
   "source": [
    "#import kagglehub #if from kagglehub\n",
    "#path = kagglehub.dataset_download(\"rabieelkharoua/predict-smart-home-device-efficiency-dataset\")\n",
    "\n",
    "from csv import *\n",
    "filename = f\"smart_home_device_usage_data.csv\"\n",
    "\n",
    "#open file\n",
    "with open(filename, mode='r') as file:\n",
    "    reader = reader(file)\n",
    "    data = list(reader)  # Convert in list to make all lines accessible \n",
    "n=len(data)-1 #number of lines\n",
    "\n",
    "DeviceType='...'\n",
    "count = sum(1 for row in data if len(row) > 1 and row[1] == DeviceType)\n",
    "print(f\"Nombre d'occurrences de l'objet choisi dans la colonne 2 : {count}\")\n",
    "\n",
    "xi_list=np.zeros((count,3)) # three parameters \n",
    "yi_list=np.zeros(count) #labels\n",
    "\n",
    "i=0\n",
    "for row in data[1:]:\n",
    "    \n",
    "    if row[1]==DeviceType:\n",
    "        yi_list[i]=row[7] # label: 0 - Inefficient, 1 - Efficient\n",
    "        xi_list[i,0]=row[2] #usagehoursperday\n",
    "        xi_list[i,1]=row[3] #energyconsumption\n",
    "        xi_list[i,2]=row[6] #DeviceAgeMonths\n",
    "        i+=1\n",
    "\n",
    "assert(i==count)\n",
    "n=i #data number=count\n",
    "\n",
    "# normalize data (features between [0,1]):\n",
    "min_values = np.array([0, 0, 0])  # Features minimum\n",
    "max_values = np.array([25,10, 60])  # Features maximum\n",
    "x_normalized = (xi_list - min_values) / (max_values - min_values)\n",
    "xi_list=x_normalized\n",
    "#print(np.shape(x_normalized))"
   ]
  },
  {
   "cell_type": "markdown",
   "metadata": {},
   "source": [
    "We are given a family of $n$ points $x_i=(x^0_i,x^1_i,x^2_i)$ in $\\mathbb{R}^3$, along with associated $\\textit{labels}$ $(y_i)_{1 \\leq i \\leq n}$ in $\\{0,1\\}$.\n",
    "\n",
    "In previous work, we aimed to establish a relationship between $x$ and $y$ in the form: \n",
    "- if $\\sigma(\\langle w, x\\rangle) \\geq 0.5$, then $y=1$,\n",
    "- else $y=0$,\n",
    "  \n",
    "where $w = (w^0, w^1)\\in \\mathbb{R}^2$ was the unknown of the problem and $\\sigma$ was the sigmoid function $z \\mapsto \\tfrac{1}{1+e^{-z}}$.\n",
    "Then, for a new unlabeled data $x$, we were computing $\\sigma(\\langle w,x\\rangle) \\in [0,1]$, allowing us to classify it as either $y=0$ or $y=1$ while incorporating a measure of uncertainty in the prediction.\n",
    "\n",
    "To simplify the model, we assumed that the data were centered at $0$ and set the bias term $b=0$: we only had to minimize the log-loss function with respect to the weights. \n",
    "\n",
    "In general, a bias term $b$ is required, meaning that we introduce an additional parameter $b \\in \\mathbb{R}$ and seek a relationship of the form:\n",
    "- if $\\sigma(\\langle w, x\\rangle + b) \\geq 0.5$, then $y=1$,\n",
    "- else $y=0$,\n",
    "  \n",
    "since there is no reason to assume that the separating hyperplane should pass through the origin.\n",
    "\n",
    "However, we can eliminate the bias term by increasing the dimensionality from $d$ to $d + 1$.\n",
    "In our case, this means increasing the dimensions of both $x$ and $w$ from $3$ to $4$: we redefine \n",
    "$$x=(x^0,x^1,x^2,1) \\textrm{ and } w=(w^0,w^1,w^2,b).$$\n",
    "This transformation allows us to maintain the same matrix notation as before in the optimization step.\n",
    "\n",
    "The log-loss function without a penalization term is thus given by:\n",
    "\\begin{equation*}\n",
    "f(w)=-\\frac1n \\sum_{i=1}^n (y_i log (\\sigma(\\langle w,x_i \\rangle))+ (1-y_i)log (1-\\sigma(\\langle w,x_i \\rangle)).\n",
    "\\end{equation*}"
   ]
  },
  {
   "cell_type": "markdown",
   "metadata": {},
   "source": [
    "#### Data plot "
   ]
  },
  {
   "cell_type": "code",
   "execution_count": null,
   "metadata": {},
   "outputs": [],
   "source": [
    "# data plot\n",
    "from mpl_toolkits.mplot3d import Axes3D\n",
    "xi_list_bias=np.zeros((n,4)) #increasing dimension from 3 to 4\n",
    "\n",
    "for i in range(n): #redefining data x in x=(x0,x1,x2,1)\n",
    "    xi_list_bias[i, 0:3]= ...\n",
    "    xi_list_bias[i, 3]= ...\n",
    "\n",
    "fig = plt.figure()\n",
    "ax = fig.add_subplot(111, projection='3d')\n",
    "\n",
    "for i in range(n//2): \n",
    "    if yi_list[i] == 1: # if x_i is of class 1 the point is red : 1 - Efficient\n",
    "        ax.scatter(xi_list[i, 0],  xi_list[i, 1],  xi_list[i, 2],  color=\"red\", marker=\".\") \n",
    "       \n",
    "    else: # else green #0 - Inefficient\n",
    "        ax.scatter(xi_list[i, 0], xi_list[i, 1],  xi_list[i, 2],  color=\"green\", marker=\".\")   \n",
    "\n",
    "elevation_angle = 60\n",
    "azimuthal_angle = 15\n",
    "ax.view_init(elevation_angle, azimuthal_angle)\n",
    "\n",
    "\n",
    "ax.set_xlabel(\"X axis, usage hours/day\")\n",
    "ax.set_ylabel(\"Y axis, device age\")\n",
    "ax.set_zlabel(\"Z axis,  energy consumption\")\n",
    "\n",
    "\n",
    "plt.title(u\"Data representation.\\n\" + r\"$x_i$ is a green point if $y_i = 0$, red point if $y_i = 1$.\"+u\"\\n\"+ r\"0 - Inefficient, 1 - Efficient\")\n",
    "#plt.axis(\"tight\")\n",
    "plt.show()"
   ]
  },
  {
   "cell_type": "markdown",
   "metadata": {},
   "source": [
    "#### 2. Log-loss function\n",
    "Define a log-loss function with penalty term L2 or with a barrier function.\n"
   ]
  },
  {
   "cell_type": "code",
   "execution_count": 5,
   "metadata": {},
   "outputs": [],
   "source": [
    "..."
   ]
  },
  {
   "cell_type": "markdown",
   "metadata": {},
   "source": [
    "#### 3.  Gradient-descent algorithm:\n",
    "Write a gradient-descent algorithm with the Armijo or the Wolfe-Armijo rule."
   ]
  },
  {
   "cell_type": "code",
   "execution_count": 8,
   "metadata": {},
   "outputs": [],
   "source": [
    "# gradient\n",
    "\n",
    "...\n"
   ]
  },
  {
   "cell_type": "code",
   "execution_count": 9,
   "metadata": {},
   "outputs": [
    {
     "name": "stdout",
     "output_type": "stream",
     "text": [
      "This quantity must be of order 1e-8 :  3.603214732619758e-08\n"
     ]
    }
   ],
   "source": [
    "w=np.random.rand(4) \n",
    "epsilon = 1e-8\n",
    "print(\"This quantity must be of order 1e-8 : \", np.linalg.norm(gradf(w) - np.array([(f(w + epsilon*np.eye(4)[0]) - f(w))/(epsilon), (f(w + epsilon*np.eye(4)[1]) - f(w))/(epsilon),(f(w + epsilon*np.eye(4)[2]) - f(w))/(epsilon),(f(w + epsilon*np.eye(4)[3]) - f(w))/(epsilon)])))"
   ]
  },
  {
   "cell_type": "code",
   "execution_count": 65,
   "metadata": {},
   "outputs": [],
   "source": [
    "# Gradient descent\n",
    "\n",
    "... \n",
    "    "
   ]
  },
  {
   "cell_type": "markdown",
   "metadata": {},
   "source": [
    "#### Best weights/bias"
   ]
  },
  {
   "cell_type": "code",
   "execution_count": null,
   "metadata": {},
   "outputs": [],
   "source": [
    "%%time\n",
    "x0 = np.array([1.,1.,1.,1.])\n",
    "...\n",
    "xlist_approx = ...\n",
    "print(len(xlist_approx))\n",
    "print(xlist_approx[-1])"
   ]
  },
  {
   "cell_type": "markdown",
   "metadata": {},
   "source": [
    "#### Visualization: separation line"
   ]
  },
  {
   "cell_type": "code",
   "execution_count": 12,
   "metadata": {},
   "outputs": [],
   "source": [
    "## P(y=1|x)\n",
    "def opt_f(wstar,z):\n",
    "    return ...\n"
   ]
  },
  {
   "cell_type": "code",
   "execution_count": null,
   "metadata": {
    "scrolled": true
   },
   "outputs": [],
   "source": [
    "## Display separation hyperplan from wstar, bstar (optimal weights/bias)\n",
    "dom_points =[0,1,0,1,0,1]\n",
    "grid_size = 50\n",
    "\n",
    "# 3D Grid\n",
    "x = np.linspace(dom_points[0], dom_points[1], grid_size)\n",
    "y = np.linspace(dom_points[2], dom_points[3], grid_size)\n",
    "z = np.linspace(dom_points[4], dom_points[5], grid_size)\n",
    "X, Y, Z = np.meshgrid(x, y, z)\n",
    "\n",
    "## plot the separation hyperplan \n",
    "X2, Y2 = np.meshgrid(x, y)\n",
    "if xlist_approx[-1][2] != 0:\n",
    "    Z2 = (-xlist_approx[-1][0] * X2 - xlist_approx[-1][1] * Y2 - xlist_approx[-1][3]) / xlist_approx[-1][2]\n",
    "    mask = (Z2 >= 0) & (Z2 <= 1)\n",
    "    Z2[~mask] = np.nan  \n",
    "\n",
    "# Compute P(y=1|x)\n",
    "P = np.zeros((grid_size, grid_size, grid_size))\n",
    "for i in range(grid_size):\n",
    "    for j in range(grid_size):\n",
    "        for k in range(grid_size):\n",
    "            P[i, j, k] = ...\n",
    "            \n",
    "fig = plt.figure(figsize=(10, 10))\n",
    "ax = fig.add_subplot(111, projection='3d')\n",
    "\n",
    "ax.plot_surface(X2, Y2, Z2, color='cyan') #separation hyperplan\n",
    "\n",
    "scatter = ax.scatter(X.flatten(), Y.flatten(), Z.flatten(), c=P.flatten(), cmap='viridis', s=0.2,alpha=0.3) #change opacity with alpha\n",
    "cbar = plt.colorbar(scatter, ax=ax, shrink=0.5)\n",
    "cbar.set_label(\"Valeur de W\")\n",
    "\n",
    "for i in range(n):\n",
    "    if yi_list[i] == 1:\n",
    "        ax.scatter(xi_list[i, 0], xi_list[i, 1], xi_list[i, 2], color=\"red\", label=\"y=1\" if i == 0 else \"\")\n",
    "    else:\n",
    "        ax.scatter(xi_list[i, 0], xi_list[i, 1], xi_list[i, 2], color=\"green\", label=\"y=0\" if i == 0 else \"\")\n",
    "\n",
    "elevation_angle = 70 #90\n",
    "azimuthal_angle = 0#35\n",
    "ax.view_init(elevation_angle, azimuthal_angle)\n",
    "\n",
    "ax.set_xlabel(\"X axis, usage hours/day\")\n",
    "ax.set_ylabel(\"Y axis, device Age Months\")\n",
    "ax.set_zlabel(\"Z axis,  energy consumption\")\n",
    "\n",
    "ax.set_title(r\"Data separation, green points y=0, red points y=1\")\n",
    "ax.set_aspect(\"equal\", adjustable = \"box\") # pour que les axes aient la même échelle\n",
    "plt.show()"
   ]
  },
  {
   "cell_type": "markdown",
   "metadata": {},
   "source": [
    "#### 4. Multi-layer perceptron\n",
    "Compare the results you obtained with a multi-layer perceptron (no hidden layer, one hidden layer and five hidden layers resp.)."
   ]
  },
  {
   "cell_type": "code",
   "execution_count": 14,
   "metadata": {},
   "outputs": [],
   "source": [
    "from sklearn.neural_network import MLPClassifier\n",
    "from sklearn.metrics import log_loss"
   ]
  },
  {
   "cell_type": "code",
   "execution_count": null,
   "metadata": {},
   "outputs": [],
   "source": [
    "############\n",
    "## No hidden layer\n",
    "mlp_no_hidden = ... #for comparison, use activation=\"logistic\"\n",
    "...\n",
    "log_loss_no_hidden = ...\n",
    "print(f\"Log-loss (no hidden layer) : {log_loss_no_hidden:.4f}\")\n",
    "\n",
    "weights_no_hidden = ...\n",
    "bias_no_hidden = ...\n",
    "print(weights_no_hidden.transpose(),\" \", bias_no_hidden)\n",
    "\n",
    "## Compare to our model:\n",
    "print(f\"Log-loss (our model) : {...:.3f}\")\n",
    "print(xlist_approx[-1])\n",
    "\n",
    "############\n",
    "## One hidden layer, 3 neurons, activation=logistic \n",
    "\n",
    "mlp_one_hidden = ...\n",
    "...\n",
    "log_loss_one_hidden = ...\n",
    "print(f\"Log-loss (one layer) : {log_loss_one_hidden:.4f}\")\n",
    "weights_one_hidden = ...\n",
    "bias_one_hidden = ...\n",
    "\n",
    "############\n",
    "## Five hidden layers, 9 neurons, activation=relu\n",
    "\n",
    "mlp_five_hidden = ...\n",
    "...\n",
    "log_loss_five_hidden = ...\n",
    "print(f\"Log-loss (5 hidden layers) : {log_loss_five_hidden:.4f}\")"
   ]
  },
  {
   "cell_type": "markdown",
   "metadata": {},
   "source": [
    "#### 6. Visualization\n",
    "\n",
    "With one layer and three neurons, compute P (y = 1|x) in a function opt_f and visualize the results. You should recover the results from mlp_one_hidden.predict_proba.\n",
    "\n",
    "\n"
   ]
  },
  {
   "cell_type": "code",
   "execution_count": 70,
   "metadata": {},
   "outputs": [],
   "source": [
    "## P(y=1|x)\n",
    "def opt_f(wstar,bstar,z):\n",
    "    W1 = wstar[:9].reshape(3, 3).transpose()  # Hidden layer weights (3 neurons, 3 inputs)\n",
    "    W2 = wstar[9:].reshape(1, 3)  # Outputs weights (1 neuron, 3 hidden inputs)\n",
    "    B1 = np.array([bstar[0],bstar[1],bstar[2]]).reshape(3,1)\n",
    "    B2 = bstar[3]\n",
    "    z = np.array(z).reshape(3, 1)  \n",
    "\n",
    "    H = ... #hidden layer\n",
    "    P = ... \n",
    "    \n",
    "    return P #carreful: must return a float \n",
    "    \n"
   ]
  },
  {
   "cell_type": "code",
   "execution_count": 62,
   "metadata": {},
   "outputs": [],
   "source": [
    "## Visualization with opt_f\n",
    "\n",
    "dom_points =[0,1,0,1,0,1]\n",
    "#dom_points = [0,np.max(xi_list[:, 0]), 0,np.max(xi_list[:, 1]),0,np.max(xi_list[:, 2])]#[-11, 11, -11, 11,]\n",
    "grid_size = 50\n",
    "\n",
    "# Génération de la grille 3D\n",
    "x = np.linspace(dom_points[0], dom_points[1], grid_size)\n",
    "y = np.linspace(dom_points[2], dom_points[3], grid_size)\n",
    "z = np.linspace(dom_points[4], dom_points[5], grid_size)\n",
    "X, Y, Z = np.meshgrid(x, y, z)\n",
    "\n",
    "\n",
    "P = np.zeros((grid_size, grid_size,grid_size))\n",
    "w_opt=np.concatenate((weights_one_hidden[0].flatten(),weights_one_hidden[1].flatten()))\n",
    "print(w_opt)\n",
    "b_opt=np.concatenate((bias_one_hidden[0].flatten(),bias_one_hidden[1].flatten()))\n",
    "print(b_opt)\n",
    "for i in range(grid_size):\n",
    "    for j in range(grid_size):\n",
    "        for k in range(grid_size):\n",
    "            P[i, j, k] =opt_f(...)\n",
    "            \n",
    "fig = plt.figure(figsize=(10, 10))\n",
    "ax = fig.add_subplot(111, projection='3d')\n",
    "\n",
    "scatter = ax.scatter(X.flatten(), Y.flatten(), Z.flatten(), c=P.flatten(), cmap='viridis', s=0.2,alpha=1)\n",
    "\n",
    "# Barre de couleurs\n",
    "cbar = plt.colorbar(scatter, ax=ax, shrink=0.5)\n",
    "cbar.set_label(\"Valeur de W\")\n",
    "for i in range(n):\n",
    "    if yi_list[i] == 1:\n",
    "        ax.scatter(xi_list[i, 0], xi_list[i, 1], xi_list[i, 2], color=\"red\", label=\"y=1\" if i == 0 else \"\")\n",
    "    else:\n",
    "        ax.scatter(xi_list[i, 0], xi_list[i, 1], xi_list[i, 2], color=\"green\", label=\"y=0\" if i == 0 else \"\")\n",
    "\n",
    "# Légendes et étiquettes\n",
    "\n",
    "ax.set_xlabel(\"X axis, usage hours/day\")\n",
    "ax.set_ylabel(\"Y axis, device Age Months\")\n",
    "ax.set_zlabel(\"Z axis,  energy consumption\")\n",
    "\n",
    "\n",
    "ax.set_title(r\"Data separation, green points y=0, red points y=1\")\n",
    "ax.set_aspect(\"equal\", adjustable = \"box\") # pour que les axes aient la même échelle\n",
    "plt.show()\n",
    "\n",
    "\n",
    "## Data\n"
   ]
  },
  {
   "cell_type": "code",
   "execution_count": null,
   "metadata": {},
   "outputs": [],
   "source": [
    "## Visualization with mlp_one_hidden\n",
    "\n",
    "dom_points =[0,1,0,1,0,1]\n",
    "grid_size = 50\n",
    "\n",
    "x = np.linspace(dom_points[0], dom_points[1], grid_size)\n",
    "y = np.linspace(dom_points[2], dom_points[3], grid_size)\n",
    "z = np.linspace(dom_points[4], dom_points[5], grid_size)\n",
    "X, Y, Z = np.meshgrid(x, y, z)\n",
    "\n",
    "P = np.zeros((grid_size, grid_size,grid_size))\n",
    "\n",
    "for i in range(grid_size):\n",
    "    for j in range(grid_size):\n",
    "        for k in range(grid_size):\n",
    "            P[i, j, k] = ... # with mlp_one_hidden\n",
    "            \n",
    "fig = plt.figure(figsize=(10, 10))\n",
    "ax = fig.add_subplot(111, projection='3d')\n",
    "\n",
    "scatter = ax.scatter(X.flatten(), Y.flatten(), Z.flatten(), c=P.flatten(), cmap='viridis', s=0.2,alpha=1)\n",
    "cbar = plt.colorbar(scatter, ax=ax, shrink=0.5)\n",
    "cbar.set_label(\"P(y=1|x)\")\n",
    "for i in range(n):\n",
    "    if yi_list[i] == 1:\n",
    "        ax.scatter(xi_list[i, 0], xi_list[i, 1], xi_list[i, 2], color=\"red\", label=\"y=1\" if i == 0 else \"\")\n",
    "    else:\n",
    "        ax.scatter(xi_list[i, 0], xi_list[i, 1], xi_list[i, 2], color=\"green\", label=\"y=0\" if i == 0 else \"\")\n",
    "\n",
    "ax.set_xlabel(\"X axis, usage hours/day\")\n",
    "ax.set_ylabel(\"Y axis, device Age Months\")\n",
    "ax.set_zlabel(\"Z axis,  energy consumption\")\n",
    "\n",
    "\n",
    "ax.set_title(r\"Data separation, green points y=0, red points y=1\")\n",
    "ax.set_aspect(\"equal\", adjustable = \"box\") \n",
    "plt.show()"
   ]
  },
  {
   "cell_type": "markdown",
   "metadata": {},
   "source": [
    "#### Conclusion: In PDF or with comments\n",
    "\n",
    "How do the parameters seem to influence classification? \n",
    "\n",
    "Bonus: What would you recommend to avoid overfitting? How to be more confidence in our model?"
   ]
  },
  {
   "cell_type": "code",
   "execution_count": null,
   "metadata": {},
   "outputs": [],
   "source": []
  }
 ],
 "metadata": {
  "@webio": {
   "lastCommId": null,
   "lastKernelId": null
  },
  "kernelspec": {
   "display_name": "Python 3 (ipykernel)",
   "language": "python",
   "name": "python3"
  },
  "language_info": {
   "codemirror_mode": {
    "name": "ipython",
    "version": 3
   },
   "file_extension": ".py",
   "mimetype": "text/x-python",
   "name": "python",
   "nbconvert_exporter": "python",
   "pygments_lexer": "ipython3",
   "version": "3.11.9"
  }
 },
 "nbformat": 4,
 "nbformat_minor": 4
}

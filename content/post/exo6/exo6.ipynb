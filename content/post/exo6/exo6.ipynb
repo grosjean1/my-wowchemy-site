{
 "cells": [
  {
   "cell_type": "code",
   "execution_count": null,
   "id": "adc6ef33-3900-4568-babd-170bd4b605d7",
   "metadata": {},
   "outputs": [],
   "source": [
    "data;\n",
    "param:nrange :t:=\n",
    "1  1790  \n",
    "2  1800  \n",
    "3  1810  \n",
    "4  1820  \n",
    "5  1830  \n",
    "6  1840 \n",
    "7  1850\n",
    "8  1860  \n",
    "9  1870  \n",
    "10 1880  \n",
    "11 1890  \n",
    "12 1900  \n",
    "13 1910  \n",
    "14 1920  \n",
    "15 1930  \n",
    "16 1940  \n",
    "17 1950 \n",
    "18 1960 \n",
    "19 1970 \n",
    "20 1980\n",
    "21 1990 \n",
    "22 2000;\n",
    "\n",
    "param P:=\n",
    "1  3.93\n",
    "2  5.31\n",
    "3  7.24\n",
    "4  9.64\n",
    "5  12.86\n",
    "6  17.06\n",
    "7  23.19\n",
    "8  31.44\n",
    "9  38.56\n",
    "10 50.19\n",
    "11 62.98\n",
    "12 76.21\n",
    "13 92.23\n",
    "14 106.02\n",
    "15 123.20\n",
    "16 132.16\n",
    "17 151.33\n",
    "18 179.32\n",
    "19 203.30\n",
    "20 226.54\n",
    "21 248.71\n",
    "22 281.42\n",
    ";\n",
    "\n",
    "model;"
   ]
  }
 ],
 "metadata": {
  "kernelspec": {
   "display_name": "Python 3 (ipykernel)",
   "language": "python",
   "name": "python3"
  },
  "language_info": {
   "codemirror_mode": {
    "name": "ipython",
    "version": 3
   },
   "file_extension": ".py",
   "mimetype": "text/x-python",
   "name": "python",
   "nbconvert_exporter": "python",
   "pygments_lexer": "ipython3",
   "version": "3.11.9"
  }
 },
 "nbformat": 4,
 "nbformat_minor": 5
}

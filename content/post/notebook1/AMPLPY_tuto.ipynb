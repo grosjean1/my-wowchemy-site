{
 "cells": [
  {
   "cell_type": "code",
   "execution_count": null,
   "id": "9f5e8b7f-a6f1-4d85-b07c-b0a0c087f59f",
   "metadata": {},
   "outputs": [],
   "source": [
    "#Install package\n",
    "import sys\n",
    "!{sys.executable} -m pip install numpy\n",
    "!{sys.executable} -m pip install matplotlib\n",
    "!{sys.executable} -m pip install amplpy"
   ]
  },
  {
   "cell_type": "code",
   "execution_count": 2,
   "id": "8a0fc718-2d36-483e-9b3d-511cffec8c75",
   "metadata": {},
   "outputs": [],
   "source": [
    "from amplpy import AMPL # import pyAMPL"
   ]
  },
  {
   "cell_type": "code",
   "execution_count": null,
   "id": "dd712dfd-5c17-4a86-be2e-ce73bff91326",
   "metadata": {},
   "outputs": [],
   "source": [
    "from amplpy import ampl_notebook\n",
    "\n",
    "ampl = ampl_notebook(\n",
    "    modules=[\"cplex\"],  # modules to install\n",
    "    license_uuid=\"default\",  # license to use\n",
    ")  # instantiate AMPL object and register magics"
   ]
  },
  {
   "cell_type": "code",
   "execution_count": 4,
   "id": "e4b37a01-4d89-4ad1-80e9-0e76cc7cfb6f",
   "metadata": {},
   "outputs": [],
   "source": [
    "%%ampl_eval\n",
    "# define decision variables\n",
    "\n",
    "reset;\n",
    "\n",
    "# Declaration of optimization variables\n",
    "var xx;\n",
    "var yy;\n",
    "# Declaration of parameters\n",
    "param aa=-4;\n",
    "param bb=2;"
   ]
  },
  {
   "cell_type": "code",
   "execution_count": 5,
   "id": "fbf4192c-bbc6-4b8a-b0ed-c9ce79fb2366",
   "metadata": {},
   "outputs": [],
   "source": [
    "%%ampl_eval\n",
    "# Cost function\n",
    "minimize f: \n",
    "    xx**2 + aa*(xx+yy) + 2*yy**2;\n",
    "# Constraints\n",
    "subject to g: xx+yy = bb;\n",
    "subject to h: xx >= 0;"
   ]
  },
  {
   "cell_type": "code",
   "execution_count": 6,
   "id": "6d83e05e-8a80-4d3f-9660-96389bc4a16b",
   "metadata": {},
   "outputs": [],
   "source": [
    "%%ampl_eval\n",
    "let xx:= 1;\n",
    "let yy:=2;"
   ]
  },
  {
   "cell_type": "code",
   "execution_count": null,
   "id": "d54898da-e0f0-4647-81d1-8f6abefe5033",
   "metadata": {},
   "outputs": [],
   "source": [
    "# exhibit the model that has been built\n",
    "ampl.eval(\"show;\")\n",
    "ampl.eval(\"expand;\")\n",
    "\n",
    "# solve using two different solvers\n",
    "ampl.option[\"solver\"] = \"cplex\"\n",
    "ampl.solve()\n",
    "\n",
    "#ampl.option[\"solver\"] = \"highs\"\n",
    "#ampl.solve()"
   ]
  },
  {
   "cell_type": "code",
   "execution_count": null,
   "id": "a89f55e5-be2a-4ba6-9f05-24cba66ad1b9",
   "metadata": {},
   "outputs": [],
   "source": [
    "ampl.display(\"xx\");# xx,yy;\n",
    "ampl.display(\"f\");\n",
    "ampl.display(\"g.dual\");\n",
    "ampl.display(\"h.dual\");"
   ]
  },
  {
   "cell_type": "code",
   "execution_count": null,
   "id": "1d0afb9f-56f0-4a04-8e59-c68ac5ecd175",
   "metadata": {},
   "outputs": [],
   "source": []
  }
 ],
 "metadata": {
  "kernelspec": {
   "display_name": "Python 3 (ipykernel)",
   "language": "python",
   "name": "python3"
  },
  "language_info": {
   "codemirror_mode": {
    "name": "ipython",
    "version": 3
   },
   "file_extension": ".py",
   "mimetype": "text/x-python",
   "name": "python",
   "nbconvert_exporter": "python",
   "pygments_lexer": "ipython3",
   "version": "3.12.4"
  }
 },
 "nbformat": 4,
 "nbformat_minor": 5
}
